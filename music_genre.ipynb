{
 "cells": [
  {
   "cell_type": "code",
   "execution_count": 127,
   "id": "0c634efc",
   "metadata": {},
   "outputs": [],
   "source": [
    "import pandas as pd\n",
    "import numpy as np\n",
    "\n",
    "\n",
    "df = pd.read_csv(\"C:/Users/ankus/Downloads/ML/dataset/train.csv\")\n",
    "df_test = pd.read_csv(\"C:/Users/ankus/Downloads/ML/dataset/test.csv\")\n"
   ]
  },
  {
   "cell_type": "code",
   "execution_count": 128,
   "id": "8dce8b92",
   "metadata": {},
   "outputs": [
    {
     "name": "stdout",
     "output_type": "stream",
     "text": [
      "\t\t\tDataset Statistics\n",
      "Number of columns:- 18\n",
      "Number of observations:- 15681\n",
      "Missing Values:- 4380\n",
      "Missing Values %:- 27.932\n"
     ]
    }
   ],
   "source": [
    "print(\"\\t\\t\\tDataset Statistics\")\n",
    "print(\"Number of columns:-\",len(df.columns))\n",
    "print(\"Number of observations:-\",df.shape[0])\n",
    "print(\"Missing Values:-\",df.isna().sum().sum())\n",
    "print(\"Missing Values %:-\",round(df.isna().sum().sum()/df.shape[0]*100,3))"
   ]
  },
  {
   "cell_type": "code",
   "execution_count": 129,
   "id": "88d2933c",
   "metadata": {},
   "outputs": [],
   "source": [
    "# Filling Null values\n",
    "df['popularity'].fillna(value=50.8227, inplace=True)\n",
    "df_test['popularity'].fillna(value=50.8227, inplace=True)\n",
    "\n",
    "df['danceability'].fillna(value=0.57, inplace=True)\n",
    "df_test['danceability'].fillna(value=0.57, inplace=True)\n",
    "\n",
    "df['duration_ms'] /= 3600*60\n",
    "df['duration_ms'].fillna(value=1.093577, inplace=True)\n",
    "df_test['duration_ms'] /= 3600*60\n",
    "df_test['duration_ms'].fillna(value=1.093577, inplace=True)\n",
    "\n",
    "df['energy'].replace(to_replace=-1, value=0, inplace=True)\n",
    "df['energy'].fillna(value=0.505055, inplace=True)\n",
    "df_test['energy'].replace(to_replace=-1, value=0, inplace=True)\n",
    "df_test['energy'].fillna(value=0.505055, inplace=True)\n",
    "\n",
    "df['instrumentalness'].fillna(value=0.264290, inplace=True)\n",
    "df_test['instrumentalness'].fillna(value=0.264290, inplace=True)\n",
    "\n",
    "df['loudness'].fillna(value=-8.611, inplace=True)\n",
    "df_test['loudness'].fillna(value=-8.611, inplace=True)\n",
    "\n",
    "df['speechiness'].fillna(value=0.096411, inplace=True)\n",
    "df['valence'].fillna(value=0.451400, inplace=True)\n",
    "\n",
    "df_test['speechiness'].fillna(value=0.096411, inplace=True)\n",
    "df_test['valence'].fillna(value=0.451400, inplace=True)"
   ]
  },
  {
   "cell_type": "code",
   "execution_count": 130,
   "id": "5a65b4a6",
   "metadata": {},
   "outputs": [],
   "source": [
    "# Filling null values of catogorical values\n",
    "import random\n",
    "df['mode'].fillna(value=random.choice(['Major', '?', 'Minor']), inplace=True)\n",
    "df['mode'].replace(to_replace='?', value=random.choice(['Major','Minor']), inplace=True)\n",
    "\n",
    "df['voice_gender'].fillna(value=random.choice(['Male', 'Female' 'Both']), inplace=True)\n",
    "\n",
    "df['tempo'].replace(to_replace='?', value='100', inplace=True)\n",
    "df['tempo'] = df['tempo'].astype(float, errors='raise')\n",
    "\n",
    "df['musician_category'].fillna(value=random.choice(['Band', 'Duet', 'Solo']), inplace=True)\n",
    "\n",
    "\n",
    "df_test['mode'].fillna(value=random.choice(['Major', '?', 'Minor']), inplace=True)\n",
    "df_test['mode'].replace(to_replace='?', value=random.choice(['Major','Minor']), inplace=True)\n",
    "\n",
    "df_test['voice_gender'].fillna(value=random.choice(['Male', 'Female' 'Both']), inplace=True)\n",
    "\n",
    "df_test['tempo'].replace(to_replace='?', value='100', inplace=True)\n",
    "df_test['tempo'] = df_test['tempo'].astype(float, errors='raise')\n",
    "\n",
    "df_test['musician_category'].fillna(value=random.choice(['Band', 'Duet', 'Solo']), inplace=True)"
   ]
  },
  {
   "cell_type": "code",
   "execution_count": 131,
   "id": "06796d40",
   "metadata": {},
   "outputs": [],
   "source": [
    "# Encoding independent and dependent variables\n",
    "from sklearn.preprocessing import LabelEncoder\n",
    "le = LabelEncoder()\n",
    "df['key'] = le.fit_transform(df['key'])\n",
    "df['mode'] = le.fit_transform(df['mode'])\n",
    "df['musician_category'] = le.fit_transform(df['musician_category'])\n",
    "\n",
    "\n",
    "df['male'] = df['voice_gender'].apply(lambda x: 1 if x in ('Male','Both') else 0)\n",
    "df['female'] = df['voice_gender'].apply(lambda x: 1 if x in ('Female','Both') else 0)\n",
    "df = df.drop(['voice_gender'], axis=1)\n",
    "\n",
    "df_test['key'] = le.fit_transform(df_test['key'])\n",
    "df_test['mode'] = le.fit_transform(df_test['mode'])\n",
    "df_test['musician_category'] = le.fit_transform(df_test['musician_category'])\n",
    "\n",
    "df_test['male'] = df_test['voice_gender'].apply(lambda x: 1 if x in ('Male','Both') else 0)\n",
    "df_test['female'] = df_test['voice_gender'].apply(lambda x: 1 if x in ('Female','Both') else 0)\n",
    "df_test = df_test.drop(['voice_gender'], axis=1)\n"
   ]
  },
  {
   "cell_type": "code",
   "execution_count": 132,
   "id": "49e56b20",
   "metadata": {},
   "outputs": [],
   "source": [
    "# Spliting independent variables and dependent variable\n",
    "X = df.drop(['music_genre','instance_id', 'track_name'], axis=1)\n",
    "Y = df['music_genre']"
   ]
  },
  {
   "cell_type": "code",
   "execution_count": 133,
   "id": "b99e7f82",
   "metadata": {},
   "outputs": [],
   "source": [
    "from sklearn.model_selection import train_test_split\n",
    "x_train, x_test, y_train, y_test = train_test_split(X, Y, test_size=0.33, random_state=1)"
   ]
  },
  {
   "cell_type": "code",
   "execution_count": 134,
   "id": "2f784b05",
   "metadata": {},
   "outputs": [],
   "source": [
    "from sklearn.preprocessing import StandardScaler\n",
    "sc = StandardScaler()\n",
    "x_train = sc.fit_transform(x_train)\n",
    "x_test = sc.fit_transform(x_test)"
   ]
  },
  {
   "cell_type": "code",
   "execution_count": 135,
   "id": "632c00a6",
   "metadata": {},
   "outputs": [
    {
     "name": "stderr",
     "output_type": "stream",
     "text": [
      "C:\\Users\\ankus\\anaconda3\\lib\\site-packages\\sklearn\\linear_model\\_logistic.py:763: ConvergenceWarning: lbfgs failed to converge (status=1):\n",
      "STOP: TOTAL NO. of ITERATIONS REACHED LIMIT.\n",
      "\n",
      "Increase the number of iterations (max_iter) or scale the data as shown in:\n",
      "    https://scikit-learn.org/stable/modules/preprocessing.html\n",
      "Please also refer to the documentation for alternative solver options:\n",
      "    https://scikit-learn.org/stable/modules/linear_model.html#logistic-regression\n",
      "  n_iter_i = _check_optimize_result(\n"
     ]
    }
   ],
   "source": [
    "# Logistice Regression\n",
    "from sklearn.linear_model import LogisticRegression\n",
    "model_lr = LogisticRegression()\n",
    "model_lr.fit(x_train, y_train)\n",
    "y_pred_lr = model_lr.predict(x_test)\n"
   ]
  },
  {
   "cell_type": "code",
   "execution_count": 136,
   "id": "10825325",
   "metadata": {},
   "outputs": [
    {
     "name": "stdout",
     "output_type": "stream",
     "text": [
      "\n",
      "Accuracy score:  75.22705314009663\n",
      "55.93160591795772\n"
     ]
    }
   ],
   "source": [
    "from sklearn.metrics import f1_score, accuracy_score\n",
    "print(\"\\nAccuracy score: \", accuracy_score(y_test, y_pred_lr) * 100)\n",
    "print(100*(f1_score(y_test,y_pred_lr,average='macro')))"
   ]
  },
  {
   "cell_type": "code",
   "execution_count": 143,
   "id": "7e76f0ba",
   "metadata": {},
   "outputs": [],
   "source": [
    "# Random Forest\n",
    "from sklearn.ensemble import RandomForestClassifier\n",
    "clf = RandomForestClassifier(max_depth=20, random_state=0)\n",
    "clf.fit(x_train, y_train)\n",
    "y_pred_clf = clf.predict(x_test)"
   ]
  },
  {
   "cell_type": "code",
   "execution_count": 144,
   "id": "4860eac3",
   "metadata": {},
   "outputs": [
    {
     "name": "stdout",
     "output_type": "stream",
     "text": [
      "\n",
      "Accuracy score:  77.06280193236715\n",
      "56.625778534305624\n"
     ]
    }
   ],
   "source": [
    "print(\"\\nAccuracy score: \", accuracy_score(y_test, y_pred_clf) * 100)\n",
    "print(100*(f1_score(y_test,y_pred_clf,average='macro')))"
   ]
  },
  {
   "cell_type": "code",
   "execution_count": 145,
   "id": "91f30eef",
   "metadata": {},
   "outputs": [
    {
     "data": {
      "text/plain": [
       "RandomForestClassifier(max_depth=20, random_state=0)"
      ]
     },
     "execution_count": 145,
     "metadata": {},
     "output_type": "execute_result"
    }
   ],
   "source": [
    "rfc = RandomForestClassifier(max_depth=20, random_state=0)\n",
    "rfc.fit(X, Y)"
   ]
  },
  {
   "cell_type": "code",
   "execution_count": 146,
   "id": "4cae6018",
   "metadata": {},
   "outputs": [],
   "source": [
    "instance_id = df_test.instance_id.values\n",
    "df_test = df_test.drop(['instance_id', 'track_name'], axis=1)"
   ]
  },
  {
   "cell_type": "code",
   "execution_count": 147,
   "id": "477561f6",
   "metadata": {},
   "outputs": [
    {
     "data": {
      "text/plain": [
       "array(['Classical', 'Rock', 'Rock', ..., 'Classical', 'Rock', 'Jazz'],\n",
       "      dtype=object)"
      ]
     },
     "execution_count": 147,
     "metadata": {},
     "output_type": "execute_result"
    }
   ],
   "source": [
    "y_pred_rfc = rfc.predict(df_test)\n",
    "y_pred_rfc"
   ]
  },
  {
   "cell_type": "code",
   "execution_count": 152,
   "id": "fa5d7722",
   "metadata": {},
   "outputs": [],
   "source": [
    "result = pd.DataFrame(zip(instance_id, y_pred_rfc), columns=['instance_id', 'music_genre'])"
   ]
  },
  {
   "cell_type": "code",
   "execution_count": 153,
   "id": "8639f94c",
   "metadata": {},
   "outputs": [],
   "source": [
    "result.to_csv(\"C:/Users/ankus/Downloads/ML/dataset/result.csv\")"
   ]
  }
 ],
 "metadata": {
  "kernelspec": {
   "display_name": "Python 3",
   "language": "python",
   "name": "python3"
  },
  "language_info": {
   "codemirror_mode": {
    "name": "ipython",
    "version": 3
   },
   "file_extension": ".py",
   "mimetype": "text/x-python",
   "name": "python",
   "nbconvert_exporter": "python",
   "pygments_lexer": "ipython3",
   "version": "3.8.8"
  }
 },
 "nbformat": 4,
 "nbformat_minor": 5
}
